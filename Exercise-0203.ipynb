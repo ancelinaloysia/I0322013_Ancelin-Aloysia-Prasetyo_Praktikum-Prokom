{
 "cells": [
  {
   "cell_type": "code",
   "execution_count": 1,
   "metadata": {},
   "outputs": [
    {
     "name": "stdout",
     "output_type": "stream",
     "text": [
      "Ancelin Aloysia Prasetyo\n",
      "I0322013\n",
      "A\n"
     ]
    }
   ],
   "source": [
    "print(input(\"Nama: \"))\n",
    "print(input(\"NIM: \"))\n",
    "print(input(\"Kelas: \"))"
   ]
  },
  {
   "attachments": {},
   "cell_type": "markdown",
   "metadata": {},
   "source": [
    "1. buatlah program sederhana untuk menghitung umur pengguna dengan ketentuan sebagai berikut :\n",
    "* Program meminta pengguna memasukan tanggal, bulan, dan tahun lahir\n",
    "* Program menghitung umur pengguna hingga tanggal 1 januari 2023\n",
    "* Program menampilkan umur dari pengguna"
   ]
  },
  {
   "cell_type": "code",
   "execution_count": 6,
   "metadata": {},
   "outputs": [
    {
     "name": "stdout",
     "output_type": "stream",
     "text": [
      "Hallo,  Ancelin\n",
      "Umur anda pada 1 Januari 2023 adalah : 19 tahun\n"
     ]
    }
   ],
   "source": [
    "from datetime import date\n",
    "Nama = input(\"Siapakah nama anda :\")\n",
    "Tanggal_lahir = int(input(\"Masukkan tanggal kelahiran anda :\"))\n",
    "Bulan_lahir = int(input(\"Masukkan bulan kelahiran anda :\"))\n",
    "Tahun_lahir = int(input(\"Masukkan tahun kelahiran anda :\"))\n",
    "\n",
    "Tanggal_Kelahiran = date(Tahun_lahir, Bulan_lahir, Tanggal_lahir)\n",
    "Tanggal_sekarang = date(2023, 1, 1)\n",
    "\n",
    "Umur_sekarang = Tanggal_sekarang - Tanggal_Kelahiran\n",
    "\n",
    "print(\"Hallo, \", Nama)\n",
    "print(\"Umur anda pada 1 Januari 2023 adalah :\", Umur_sekarang.days // 365, \"tahun\") \n"
   ]
  },
  {
   "attachments": {},
   "cell_type": "markdown",
   "metadata": {},
   "source": [
    "2. Pada 2015, wabah flu burung menyerang Indonesia dan beberapa peternak ayam mengalami kerugian karena banyaknya ayam yang mati. Setiap bulan, jumlah ayamnya berkurang menjadi setengah. Setelah dua bulan, jumlah ayam yang tersisa adalah 200 ekor. Hitunglah jumlah ayam sebelumnya yang dimiliki peternak tersebut! (gunakan rumus deret geometri)\n",
    "\n",
    "> *note: SOAL DIATAS DIKERJAKAN SESUAI DENGAN RUMUS BAKU*"
   ]
  },
  {
   "cell_type": "code",
   "execution_count": 28,
   "metadata": {},
   "outputs": [
    {
     "name": "stdout",
     "output_type": "stream",
     "text": [
      "Jumlah ayamm yang dimiliki peternak tersebut sebelum flu burung adalah : 800.0 ekor\n"
     ]
    }
   ],
   "source": [
    "Un = 200\n",
    "r = 1/2\n",
    "n = 2\n",
    "\n",
    "# Rumus \n",
    "# Un = a*r**n\n",
    "# a = jumlah awal\n",
    "# a = Un/(r**n)\n",
    "\n",
    "a = Un/(r**n)\n",
    "\n",
    "print (\"Jumlah ayamm yang dimiliki peternak tersebut sebelum flu burung adalah :\", a, \"ekor\")"
   ]
  },
  {
   "attachments": {},
   "cell_type": "markdown",
   "metadata": {},
   "source": [
    "3. \n",
    "* **A** Hitunglah luas Prisma Segitiga dengan ketentuan sebagai berikut:\n",
    "    * Alas dan tutup prisma merupakan segitiga\n",
    "    * Terdapat 3 persegi panjang yang menyinggung alas dan tutup prisma\n",
    "    * Sisi persegi panjang yang menyinggung segitiga adalah sisi lebar\n",
    "```python\n",
    "    dictionary_figure = {\"Persegi\":{\"Sisi\":22},\n",
    "                        \"Persegi Panjang\":{\"Panjang\":10,\"Lebar\":5},\n",
    "                        \"Segitiga Sama Sisi\":{\"Sisi\":6,\"Tinggi\":3**(1/2) * 3},\n",
    "                        \"Lingkaran\":{\"Diameter\":7}}\n",
    "```\n",
    "* **B** Hitunglah luas Tabung dengan ketentuan sebagai berikut:\n",
    "    * Alas dan tutup tabung merupakan lingkaran\n",
    "    * Terdapat 1 persegi yang menyinggung alas dan tutup tabung\n",
    "    * Persegi yang ada mengelilingi lingkaran hingga sisi dari persegi saling bertemu\n",
    "\n",
    "> *note: Pada soal ini kalian hanya boleh menggunakan key-value pair dan index pada list. Tidak diperbolehkan menulis secara langsung dimensi dari figure*"
   ]
  },
  {
   "attachments": {},
   "cell_type": "markdown",
   "metadata": {},
   "source": [
    "#Jawaban No 3"
   ]
  },
  {
   "cell_type": "code",
   "execution_count": 18,
   "metadata": {},
   "outputs": [
    {
     "name": "stdout",
     "output_type": "stream",
     "text": [
      "Luas prisma segitiga adalah: 181.1769145362398\n",
      "Luas tabung adalah:  560.5796356663285\n"
     ]
    }
   ],
   "source": [
    "dictionary_figure = {\"Persegi\":{\"Sisi\":22},\n",
    "                    'Persegi Panjang' : {\"Panjang\":10, \"Lebar\":5},\n",
    "                    'Segitiga Sama Sisi' : {\"Sisi\":6, \"Tinggi\":3**(1/2)*3},\n",
    "                    'Lingkaran' :{\"Diameter\":7}}\n",
    "\n",
    "# Luas Prisma\n",
    "sisi_segitiga = dictionary_figure[\"Segitiga Sama Sisi\"][\"Sisi\"]\n",
    "lebar_persegi_panjang = dictionary_figure[\"Persegi Panjang\"][\"Lebar\"]\n",
    "panjang_persegi_panjang = dictionary_figure[\"Persegi Panjang\"][\"Panjang\"]\n",
    "\n",
    "luas_segitiga = (.25 * sisi_segitiga**2) * (3**(1/2))\n",
    "luas_bidang_tegak = panjang_persegi_panjang * lebar_persegi_panjang\n",
    "\n",
    "luas_prisma = 2 * luas_segitiga + 3 * luas_bidang_tegak \n",
    "print(\"Luas prisma segitiga adalah:\",luas_prisma)\n",
    "\n",
    "# Luas Tabung\n",
    "from math import pi \n",
    "diameter_lingkaran = dictionary_figure[\"Lingkaran\"][\"Diameter\"]\n",
    "\n",
    "keliling_lingkaran = pi * diameter_lingkaran\n",
    "luas_lingkaran = .25 * pi * diameter_lingkaran **2 \n",
    "selimut_lingkaran = keliling_lingkaran * keliling_lingkaran\n",
    "\n",
    "luas_tabung = 2 * luas_lingkaran + selimut_lingkaran\n",
    "print(\"Luas tabung adalah: \", luas_tabung)"
   ]
  }
 ],
 "metadata": {
  "kernelspec": {
   "display_name": "Python 3",
   "language": "python",
   "name": "python3"
  },
  "language_info": {
   "codemirror_mode": {
    "name": "ipython",
    "version": 3
   },
   "file_extension": ".py",
   "mimetype": "text/x-python",
   "name": "python",
   "nbconvert_exporter": "python",
   "pygments_lexer": "ipython3",
   "version": "3.10.7"
  },
  "orig_nbformat": 4
 },
 "nbformat": 4,
 "nbformat_minor": 2
}
