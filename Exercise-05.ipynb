{
 "cells": [
  {
   "attachments": {},
   "cell_type": "markdown",
   "metadata": {},
   "source": [
    "1. Buatlah program untuk menampilkan total penjumlahan bilangan ganjil dan total penjumlahan bilangan genap dengan input dari user berupa range (batas atas dan batas bawah)!"
   ]
  },
  {
   "cell_type": "code",
   "execution_count": 17,
   "metadata": {},
   "outputs": [
    {
     "name": "stdout",
     "output_type": "stream",
     "text": [
      "Total penjumlahan bilangan ganjil adalah 25\n",
      "dan total penjumalahan bilangan genap adalah 30\n"
     ]
    }
   ],
   "source": [
    "# Kerjakan nomor 1 di sini\n",
    "batas_atas = int(input(\"Masukkan batas atas = \"))\n",
    "batas_bawah = int(input(\"Masukkan batas bawah = \"))\n",
    "bilangan_ganjil = 0\n",
    "bilangan_genap = 0\n",
    "\n",
    "for bilangan in range(batas_bawah, batas_atas + 1):\n",
    "    if bilangan % 2 == 1:\n",
    "        bilangan_ganjil += bilangan\n",
    "    else:\n",
    "        bilangan_genap += bilangan\n",
    "\n",
    "print(\"Total penjumlahan bilangan ganjil adalah\", ganjil) \n",
    "print(\"dan total penjumalahan bilangan genap adalah\", genap)\n"
   ]
  },
  {
   "attachments": {},
   "cell_type": "markdown",
   "metadata": {},
   "source": [
    "2. Buatlah sebuah list yang berisi daftar makanan khas daerah (minimal 10 makanan termasuk makanan khas Solo). Kemudian buat program pencarian menggunakan pengulangan. Apabila nama makanan yang user inputkan sudah sesuai dengan isi list maka program akan berhenti dan menampilkan output \"(makanan yang diinput user) adalah makanan khas daerah\"."
   ]
  },
  {
   "cell_type": "code",
   "execution_count": 11,
   "metadata": {},
   "outputs": [
    {
     "name": "stdout",
     "output_type": "stream",
     "text": [
      "Ayam Goreng bukan merupakan makanan khas daerah\n",
      "Pempek adalah makanan khas daerah\n"
     ]
    }
   ],
   "source": [
    "# Kerjakan nomor 2 di sini\n",
    "makanan_khas = [\"Pempek\",\n",
    "                \"Selat Solo\",\n",
    "                \"Bika Ambon\",\n",
    "                \"Kerak Telor\",\n",
    "                \"Karedok\",\n",
    "                \"Gudeg\",\n",
    "                \"Ayam Betutu\",\n",
    "                \"Coto Makassar\",\n",
    "                \"Bubur Manado\",\n",
    "                \"Nasi Liwet\",\n",
    "                \"Serabi Solo\",\n",
    "                \"Lumpia\",\n",
    "                \"Sate Padang\",\n",
    "                \"Lontong Sayur\",\n",
    "                \"Soto Lamongan\"\n",
    "                ]\n",
    "\n",
    "while True:\n",
    "    nama_makanan = input(\"Masukkan nama makanan khas daerah : \")\n",
    "    if nama_makanan in makanan_khas:\n",
    "        print(nama_makanan, \"adalah makanan khas daerah\")\n",
    "        break\n",
    "    else:\n",
    "        print(nama_makanan, \"bukan merupakan makanan khas daerah\")"
   ]
  },
  {
   "attachments": {},
   "cell_type": "markdown",
   "metadata": {},
   "source": [
    "3. Buatlah program untuk menghitung rata-rata 7 bilangan dimana bilangan-bilangan tersebut didapat melalui input user!"
   ]
  },
  {
   "cell_type": "code",
   "execution_count": 18,
   "metadata": {},
   "outputs": [
    {
     "name": "stdout",
     "output_type": "stream",
     "text": [
      "Rata-rata ketujuh bilangan tersebut adalah 20.0\n"
     ]
    }
   ],
   "source": [
    "# Kerjakan nomor 3 di sini\n",
    "bilangan = []\n",
    "for i in range(7):\n",
    "    bilangan_ke = float(input(\"Masukkan bilangan ke-{} = \".format(i + 1)))\n",
    "    bilangan.append(bilangan_ke)\n",
    "\n",
    "jumlah_bilangan = len(bilangan)\n",
    "total_jumlah_bilangan = sum(bilangan)\n",
    "ratarata = total_jumlah_bilangan / jumlah_bilangan\n",
    "\n",
    "print(\"Rata-rata ketujuh bilangan tersebut adalah\", ratarata)"
   ]
  }
 ],
 "metadata": {
  "kernelspec": {
   "display_name": "Python 3",
   "language": "python",
   "name": "python3"
  },
  "language_info": {
   "codemirror_mode": {
    "name": "ipython",
    "version": 3
   },
   "file_extension": ".py",
   "mimetype": "text/x-python",
   "name": "python",
   "nbconvert_exporter": "python",
   "pygments_lexer": "ipython3",
   "version": "3.10.7"
  },
  "orig_nbformat": 4
 },
 "nbformat": 4,
 "nbformat_minor": 2
}
