{
 "cells": [
  {
   "cell_type": "code",
   "execution_count": 4,
   "metadata": {},
   "outputs": [
    {
     "name": "stdout",
     "output_type": "stream",
     "text": [
      "[[3, 4], [3, 2]]\n"
     ]
    }
   ],
   "source": [
    "#Buatlah sebuah fungsi untuk membuat matrix berdasarkan input dari user\n",
    "\n",
    "def create_matrix(baris,kolom):\n",
    "    matrix = []\n",
    "    for i in range(baris):\n",
    "        row = []\n",
    "        for j in range(kolom):\n",
    "            elemen = int(input(f'Masukkan nilai matriks[{i}][{j}]:'))\n",
    "            row.append(elemen)\n",
    "        matrix.append(row)\n",
    "    return matrix\n",
    "\n",
    "baris = int(input('Masukkan Jumlah Baris:\\t'))\n",
    "kolom = int(input('Masukkan Jumlah Kolom:\\t'))\n",
    "\n",
    "matrix = create_matrix(baris,kolom)\n",
    "print(matrix)"
   ]
  },
  {
   "cell_type": "code",
   "execution_count": 13,
   "metadata": {},
   "outputs": [
    {
     "name": "stdout",
     "output_type": "stream",
     "text": [
      "Hasil penjumlahan matrix : \n",
      "[35, 5]\n",
      "[5, 5]\n"
     ]
    }
   ],
   "source": [
    "#Buatlah sebuah fungsi untuk menambah dua matrix berdasarkan input user\n",
    "\n",
    "def tambah_matrix(matrix_1,matrix_2):\n",
    "    tambah = []\n",
    "\n",
    "    if len(matrix_1) == len(matrix_2) and len(matrix_1[0]) == len(matrix_2[0]):\n",
    "        for i in range(len(matrix_1)):\n",
    "            row = []\n",
    "            for j in range(len(matrix_2[0])):\n",
    "                row.append(matrix_1[i][j] + matrix_2[i][j])\n",
    "            tambah.append(row)\n",
    "    else:\n",
    "        print('Ukuran matrix tidak sama')\n",
    "\n",
    "    return tambah\n",
    "\n",
    "baris = int(input(\"Masukkan jumlah baris matrix: \"))\n",
    "kolom = int(input(\"Masukkan jumlah kolom matrix: \"))\n",
    "\n",
    "matrix_1 = []\n",
    "for i in range(baris):\n",
    "    row = []\n",
    "    for j in range(kolom):\n",
    "        elemen_1 = int(input(f'Masukkan elemen matrix pertama[{i}][{j}]: '))\n",
    "        row.append(elemen_1)\n",
    "    matrix_1.append(row)\n",
    "\n",
    "matrix_2 = []\n",
    "for i in range(baris):\n",
    "    row = []\n",
    "    for j in range(kolom):\n",
    "        elemen_2 = int(input(f'Masukkan elemen matrix kedua[{i}][{j}]: '))\n",
    "        row.append(elemen_2)\n",
    "    matrix_2.append(row)\n",
    "\n",
    "hasil_penjumlahan = tambah_matrix(matrix_1, matrix_2)\n",
    "\n",
    "if hasil_penjumlahan:\n",
    "    print('Hasil penjumlahan matrix : ')\n",
    "    for row in hasil_penjumlahan:\n",
    "        print(row)\n"
   ]
  },
  {
   "cell_type": "code",
   "execution_count": 17,
   "metadata": {},
   "outputs": [
    {
     "name": "stdout",
     "output_type": "stream",
     "text": [
      "Hasil perkalian matrix : \n",
      "[8, 18]\n",
      "[8, 18]\n"
     ]
    }
   ],
   "source": [
    "#Buatlah fungsi untuk mengakalikan dua buah matrix berdasarkan input user\n",
    "\n",
    "def multiply_matrix(matrix_1, matrix_2):\n",
    "    result=[]\n",
    "    \n",
    "    if len(matrix_1) == len(matrix_2) :\n",
    "        for i in range(len(matrix_1)):\n",
    "            row = []\n",
    "            for j in range(len(matrix_2[0])):\n",
    "                jumlah = 0\n",
    "                for k in range(len(matrix_2)):\n",
    "                    jumlah += matrix_1[i][j] * matrix_2[i][j]\n",
    "                row.append(jumlah)\n",
    "            result.append(row)\n",
    "    else:\n",
    "        print('Ukuran matrix tidak sama')\n",
    "\n",
    "    return result\n",
    "\n",
    "baris_1 = int(input('Masukkan jumlah baris matrix pertama:\\t'))\n",
    "kolom_1 = int(input('Masukkan jumlah kolom matrix pertama:\\t'))\n",
    "baris_2 = int(input('Masukkan jumlah baris matrix kedua:\\t'))\n",
    "kolom_2 = int(input('Masukkan jumlah kolom matrix kedua:\\t'))\n",
    "\n",
    "matrix_1 = []\n",
    "for i in range(baris_1):\n",
    "    row = []\n",
    "    for j in range(kolom_1):\n",
    "        elemen_1 = int(input(f'Masukkan elemen matrix pertama[{i}][{j}]: '))\n",
    "        row.append(elemen_1)\n",
    "    matrix_1.append(row)\n",
    "\n",
    "matrix_2 = []\n",
    "for i in range(baris_2):\n",
    "    row = []\n",
    "    for j in range(kolom_2):\n",
    "        elemen_2 = int(input(f'Masukkan elemen matrix kedua[{i}][{j}]: '))\n",
    "        row.append(elemen_2)\n",
    "    matrix_2.append(row)\n",
    "\n",
    "hasil_perkalian = multiply_matrix(matrix_1, matrix_2)\n",
    "\n",
    "if hasil_perkalian:\n",
    "    print('Hasil perkalian matrix : ')\n",
    "    for row in hasil_perkalian:\n",
    "        print(row)"
   ]
  }
 ],
 "metadata": {
  "kernelspec": {
   "display_name": "Python 3",
   "language": "python",
   "name": "python3"
  },
  "language_info": {
   "codemirror_mode": {
    "name": "ipython",
    "version": 3
   },
   "file_extension": ".py",
   "mimetype": "text/x-python",
   "name": "python",
   "nbconvert_exporter": "python",
   "pygments_lexer": "ipython3",
   "version": "3.10.7"
  },
  "orig_nbformat": 4
 },
 "nbformat": 4,
 "nbformat_minor": 2
}
