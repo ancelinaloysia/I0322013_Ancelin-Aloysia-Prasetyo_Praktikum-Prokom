{
 "cells": [
  {
   "cell_type": "code",
   "execution_count": 5,
   "metadata": {},
   "outputs": [
    {
     "name": "stdout",
     "output_type": "stream",
     "text": [
      "jadi, volume balok adalah 24 cm**3\n"
     ]
    }
   ],
   "source": [
    "panjang = int(input('Masukkan panjang balok dalam cm: '))\n",
    "lebar = int(input('Masukkan lebar balok dalam cm: '))\n",
    "tinggi = int(input('Masukkan tinggi balok dalam cm: '))\n",
    "volume_balok = (panjang*lebar*tinggi)\n",
    "print(f'jadi, volume balok adalah {volume_balok} cm**3')"
   ]
  },
  {
   "cell_type": "code",
   "execution_count": 14,
   "metadata": {},
   "outputs": [
    {
     "name": "stdout",
     "output_type": "stream",
     "text": [
      "[2, 3, 4, 5, 9]\n",
      "jarak rumah yang paling jauh adalah: 9\n",
      "jarak rumah yang paling dekat adalah: 2\n",
      "nilai dari mean adalah: 4.6\n"
     ]
    }
   ],
   "source": [
    "jarak_rumah = []\n",
    "nilai = input('Masukkan jarak rumahmu dan 2 temanmu ke kampus: ')\n",
    "jarak_rumah = nilai.split(',')\n",
    "\n",
    "angka_list = [int(nilai) for nilai in jarak_rumah]\n",
    "print(angka_list)\n",
    "\n",
    "print(f'jarak rumah yang paling jauh adalah: {max(angka_list)}')\n",
    "print(f'jarak rumah yang paling dekat adalah: {min(angka_list)}')\n",
    "\n",
    "mean = sum(angka_list)/len(angka_list)\n",
    "print(f'nilai dari mean adalah: {mean}')"
   ]
  },
  {
   "cell_type": "code",
   "execution_count": 2,
   "metadata": {},
   "outputs": [
    {
     "name": "stdout",
     "output_type": "stream",
     "text": [
      "['program.c', 'stdio.h', 'sample.h', 'a.out', 'math.h', 'hpp.out']\n"
     ]
    }
   ],
   "source": [
    "filenames = [\"program.c\",\"stdio.hpp\",\"sample.hpp\",\"a.out\",\"math.hpp\",\"hpp.out\"]\n",
    "newfilenames = [filenames.replace(\".hpp\",\".h\") if filenames.endswith(\".hpp\")else filenames for filenames in filenames]\n",
    "\n",
    "print(newfilenames)"
   ]
  },
  {
   "cell_type": "code",
   "execution_count": 6,
   "metadata": {},
   "outputs": [
    {
     "name": "stdout",
     "output_type": "stream",
     "text": [
      "Hello\n",
      "World\n",
      "HloWrd\n"
     ]
    }
   ],
   "source": [
    "string = \"Hello World\"\n",
    "print(string[0:5]) # Hello\n",
    "print(string[6:11]) # World\n",
    "print(string[0:11:2]) # HloWrd"
   ]
  },
  {
   "cell_type": "code",
   "execution_count": 9,
   "metadata": {},
   "outputs": [
    {
     "name": "stdout",
     "output_type": "stream",
     "text": [
      "False\n"
     ]
    }
   ],
   "source": [
    "#Boolean\n",
    "boolean1 = 10<4+5\n",
    "print(boolean1)"
   ]
  },
  {
   "cell_type": "code",
   "execution_count": 11,
   "metadata": {},
   "outputs": [
    {
     "name": "stdout",
     "output_type": "stream",
     "text": [
      "False\n"
     ]
    }
   ],
   "source": [
    "#Boolean\n",
    "boolean1 = 10 == \"10\"\n",
    "print(boolean1)"
   ]
  },
  {
   "cell_type": "code",
   "execution_count": 20,
   "metadata": {},
   "outputs": [
    {
     "name": "stdout",
     "output_type": "stream",
     "text": [
      "0b1000\n"
     ]
    }
   ],
   "source": [
    "#Binary\n",
    "biner = bin(8)\n",
    "print(biner)"
   ]
  }
 ],
 "metadata": {
  "kernelspec": {
   "display_name": "Python 3",
   "language": "python",
   "name": "python3"
  },
  "language_info": {
   "codemirror_mode": {
    "name": "ipython",
    "version": 3
   },
   "file_extension": ".py",
   "mimetype": "text/x-python",
   "name": "python",
   "nbconvert_exporter": "python",
   "pygments_lexer": "ipython3",
   "version": "3.10.7"
  },
  "orig_nbformat": 4
 },
 "nbformat": 4,
 "nbformat_minor": 2
}
